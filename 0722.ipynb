{
  "nbformat": 4,
  "nbformat_minor": 0,
  "metadata": {
    "colab": {
      "name": "0722.ipynb",
      "provenance": []
    },
    "kernelspec": {
      "name": "python3",
      "display_name": "Python 3"
    },
    "language_info": {
      "name": "python"
    }
  },
  "cells": [
    {
      "cell_type": "code",
      "execution_count": null,
      "metadata": {
        "colab": {
          "base_uri": "https://localhost:8080/"
        },
        "id": "TPMlHBwriAnp",
        "outputId": "ea10db71-d665-45ce-f7a3-8ad5fa222e01"
      },
      "outputs": [
        {
          "output_type": "stream",
          "name": "stdout",
          "text": [
            "hello world\n"
          ]
        }
      ],
      "source": [
        "print(\"hello world\")"
      ]
    },
    {
      "cell_type": "code",
      "source": [
        "print(1)"
      ],
      "metadata": {
        "colab": {
          "base_uri": "https://localhost:8080/"
        },
        "id": "4ZyMHp_hjH30",
        "outputId": "38fa50e3-6b8d-45bf-ba60-09dfd2400604"
      },
      "execution_count": null,
      "outputs": [
        {
          "output_type": "stream",
          "name": "stdout",
          "text": [
            "1\n"
          ]
        }
      ]
    },
    {
      "cell_type": "code",
      "source": [
        "print(10)"
      ],
      "metadata": {
        "colab": {
          "base_uri": "https://localhost:8080/"
        },
        "id": "_bJsVK3SjJbr",
        "outputId": "2ff9219d-e2c8-4223-c21c-7841220654e5"
      },
      "execution_count": null,
      "outputs": [
        {
          "output_type": "stream",
          "name": "stdout",
          "text": [
            "10\n"
          ]
        }
      ]
    },
    {
      "cell_type": "code",
      "source": [
        "print(10.2)"
      ],
      "metadata": {
        "colab": {
          "base_uri": "https://localhost:8080/"
        },
        "id": "o8M2CGiCjKIr",
        "outputId": "350c4cb2-ac63-41d7-c57e-b3d0cf975089"
      },
      "execution_count": null,
      "outputs": [
        {
          "output_type": "stream",
          "name": "stdout",
          "text": [
            "10.2\n"
          ]
        }
      ]
    },
    {
      "cell_type": "code",
      "source": [
        "문자 = \"안녕하세요\""
      ],
      "metadata": {
        "id": "fXknJ3AIkJxU"
      },
      "execution_count": null,
      "outputs": []
    },
    {
      "cell_type": "code",
      "source": [
        "print(문자)"
      ],
      "metadata": {
        "colab": {
          "base_uri": "https://localhost:8080/"
        },
        "id": "_M52el6hjLll",
        "outputId": "b2cc0f01-dcd7-4874-ab40-0ac02bfaf9ed"
      },
      "execution_count": null,
      "outputs": [
        {
          "output_type": "stream",
          "name": "stdout",
          "text": [
            "안녕하세요\n"
          ]
        }
      ]
    },
    {
      "cell_type": "code",
      "source": [
        "print(\"\\\"\")"
      ],
      "metadata": {
        "colab": {
          "base_uri": "https://localhost:8080/"
        },
        "id": "19o6rjemjzq6",
        "outputId": "4410b11f-4762-4a7e-a24c-7321969c382b"
      },
      "execution_count": null,
      "outputs": [
        {
          "output_type": "stream",
          "name": "stdout",
          "text": [
            "\"\n"
          ]
        }
      ]
    },
    {
      "cell_type": "code",
      "source": [
        " print(\"안녕하세요\\b\") # \\b는 백스페이스"
      ],
      "metadata": {
        "colab": {
          "base_uri": "https://localhost:8080/"
        },
        "id": "KklZMWabmpda",
        "outputId": "34f12768-1962-4943-c3ed-4437a210c40b"
      },
      "execution_count": null,
      "outputs": [
        {
          "output_type": "stream",
          "name": "stdout",
          "text": [
            "안녕하세요\b\n"
          ]
        }
      ]
    },
    {
      "cell_type": "code",
      "source": [
        "print(\"안녕하\\n세요\") # \\n은 줄바꿈"
      ],
      "metadata": {
        "colab": {
          "base_uri": "https://localhost:8080/"
        },
        "id": "WhYlNlt4m6yi",
        "outputId": "38329e06-ccdd-40b2-a2d1-8a129d4df2fc"
      },
      "execution_count": null,
      "outputs": [
        {
          "output_type": "stream",
          "name": "stdout",
          "text": [
            "안녕하\n",
            "세요\n"
          ]
        }
      ]
    },
    {
      "cell_type": "code",
      "source": [
        "print(\"안녕하\\t세요\") # \\t는 탭"
      ],
      "metadata": {
        "colab": {
          "base_uri": "https://localhost:8080/"
        },
        "id": "QlFoUBYZnVOp",
        "outputId": "39bc6b63-feda-401a-9b11-14f98a3c692f"
      },
      "execution_count": null,
      "outputs": [
        {
          "output_type": "stream",
          "name": "stdout",
          "text": [
            "안녕하\t세요\n"
          ]
        }
      ]
    },
    {
      "cell_type": "code",
      "source": [
        "print(\"안녕하\\\\세요\") # \\\\는 \\문자 적어주기"
      ],
      "metadata": {
        "colab": {
          "base_uri": "https://localhost:8080/"
        },
        "id": "iZSSSVmHnaAh",
        "outputId": "25776d7e-131f-4caf-e311-eb898e08fd8e"
      },
      "execution_count": null,
      "outputs": [
        {
          "output_type": "stream",
          "name": "stdout",
          "text": [
            "안녕하\\세요\n"
          ]
        }
      ]
    },
    {
      "cell_type": "code",
      "source": [
        "print(\"\\\" \\'\") # \\\" 이건 쌍따옴표, \\'이건 따옴표"
      ],
      "metadata": {
        "colab": {
          "base_uri": "https://localhost:8080/"
        },
        "id": "FFzNw9Utng-Q",
        "outputId": "dc82b434-3d93-44ce-e6e4-64cec67bd0fa"
      },
      "execution_count": null,
      "outputs": [
        {
          "output_type": "stream",
          "name": "stdout",
          "text": [
            "\" '\n"
          ]
        }
      ]
    },
    {
      "cell_type": "code",
      "source": [
        "print(\"\\\\\\\"(\\'.\\')\\\"/\")"
      ],
      "metadata": {
        "colab": {
          "base_uri": "https://localhost:8080/"
        },
        "id": "YbGej2ginsOB",
        "outputId": "a9d6db14-03f6-438c-8922-25e43097e178"
      },
      "execution_count": null,
      "outputs": [
        {
          "output_type": "stream",
          "name": "stdout",
          "text": [
            "\\\"('.')\"/\n"
          ]
        }
      ]
    },
    {
      "cell_type": "code",
      "source": [
        "print(\"데이터1\",\"데이터2\",\"데이터3\")"
      ],
      "metadata": {
        "colab": {
          "base_uri": "https://localhost:8080/"
        },
        "id": "XtFXA9OQohla",
        "outputId": "bc1c8d7f-31c6-47a4-fd93-51890d0a0e87"
      },
      "execution_count": null,
      "outputs": [
        {
          "output_type": "stream",
          "name": "stdout",
          "text": [
            "데이터1 데이터2 데이터3\n"
          ]
        }
      ]
    },
    {
      "cell_type": "code",
      "source": [
        "print(\"데이터1\",\"데이터2\",\"데이터3\",sep='')"
      ],
      "metadata": {
        "colab": {
          "base_uri": "https://localhost:8080/"
        },
        "id": "Hz9ojLYoqARr",
        "outputId": "0c8f48a6-52c1-4e19-eb10-8622603989fd"
      },
      "execution_count": null,
      "outputs": [
        {
          "output_type": "stream",
          "name": "stdout",
          "text": [
            "데이터1데이터2데이터3\n"
          ]
        }
      ]
    },
    {
      "cell_type": "code",
      "source": [
        "print(\"데이터1\",\"데이터2\",\"데이터3\",sep='\\n',end=\"끝\")"
      ],
      "metadata": {
        "colab": {
          "base_uri": "https://localhost:8080/"
        },
        "id": "TAbYeHIPqswo",
        "outputId": "4fd1b982-93ef-460a-f594-da64b5dc0d61"
      },
      "execution_count": null,
      "outputs": [
        {
          "output_type": "stream",
          "name": "stdout",
          "text": [
            "데이터1\n",
            "데이터2\n",
            "데이터3끝"
          ]
        }
      ]
    },
    {
      "cell_type": "code",
      "source": [
        "전화번호1 = \"010\"\n",
        "전화번호2 = 2310\n",
        "전화번호3 = 3085\n",
        "print(전화번호1,\"-\",전화번호2,\"-\",전화번호3,sep='')"
      ],
      "metadata": {
        "colab": {
          "base_uri": "https://localhost:8080/"
        },
        "id": "7B6kevQZrD6s",
        "outputId": "e2b62703-c950-4124-a1c1-50ce852b6d0b"
      },
      "execution_count": null,
      "outputs": [
        {
          "output_type": "stream",
          "name": "stdout",
          "text": [
            "010-2310-3085\n"
          ]
        }
      ]
    },
    {
      "cell_type": "code",
      "source": [
        "이름 = \"김민재\""
      ],
      "metadata": {
        "id": "dGixAdGYrOL2"
      },
      "execution_count": null,
      "outputs": []
    },
    {
      "cell_type": "code",
      "source": [
        "print(이름)"
      ],
      "metadata": {
        "colab": {
          "base_uri": "https://localhost:8080/"
        },
        "id": "i1HWZ0IHyxkR",
        "outputId": "af854b6b-a421-4b72-adad-0dfe1a4d6418"
      },
      "execution_count": null,
      "outputs": [
        {
          "output_type": "stream",
          "name": "stdout",
          "text": [
            "김민재\n"
          ]
        }
      ]
    },
    {
      "cell_type": "code",
      "source": [
        "반 = 10"
      ],
      "metadata": {
        "id": "WNkzIp7ky4Ug"
      },
      "execution_count": null,
      "outputs": []
    },
    {
      "cell_type": "code",
      "source": [
        "print(반)"
      ],
      "metadata": {
        "colab": {
          "base_uri": "https://localhost:8080/"
        },
        "id": "p4RTMwIXzQmN",
        "outputId": "85366ca4-b25d-424b-da77-fbe302729a77"
      },
      "execution_count": null,
      "outputs": [
        {
          "output_type": "stream",
          "name": "stdout",
          "text": [
            "10\n"
          ]
        }
      ]
    },
    {
      "cell_type": "code",
      "source": [
        "type(반)"
      ],
      "metadata": {
        "colab": {
          "base_uri": "https://localhost:8080/"
        },
        "id": "hw7ruQpezSAD",
        "outputId": "2c881f4b-0335-4751-df57-2f9e598c11ab"
      },
      "execution_count": null,
      "outputs": [
        {
          "output_type": "execute_result",
          "data": {
            "text/plain": [
              "int"
            ]
          },
          "metadata": {},
          "execution_count": 48
        }
      ]
    },
    {
      "cell_type": "code",
      "source": [
        "반 + 10"
      ],
      "metadata": {
        "colab": {
          "base_uri": "https://localhost:8080/"
        },
        "id": "3Fl0-zGxzTDe",
        "outputId": "c4150ad5-e087-4e67-bd54-6a1088f3e876"
      },
      "execution_count": null,
      "outputs": [
        {
          "output_type": "execute_result",
          "data": {
            "text/plain": [
              "20"
            ]
          },
          "metadata": {},
          "execution_count": 49
        }
      ]
    },
    {
      "cell_type": "code",
      "source": [
        "소수 = 0.5"
      ],
      "metadata": {
        "id": "QHwUJXqSzZdR"
      },
      "execution_count": null,
      "outputs": []
    },
    {
      "cell_type": "code",
      "source": [
        "type(소수)"
      ],
      "metadata": {
        "colab": {
          "base_uri": "https://localhost:8080/"
        },
        "id": "wRUT7KWmz1Tw",
        "outputId": "38dc213a-4ec8-45f4-b0c4-f60971ada92a"
      },
      "execution_count": null,
      "outputs": [
        {
          "output_type": "execute_result",
          "data": {
            "text/plain": [
              "float"
            ]
          },
          "metadata": {},
          "execution_count": 51
        }
      ]
    },
    {
      "cell_type": "code",
      "source": [
        "print(0b10)"
      ],
      "metadata": {
        "colab": {
          "base_uri": "https://localhost:8080/"
        },
        "id": "CBLa6Croz4A7",
        "outputId": "1ed89e3f-4d7f-4430-eb56-bffdbd43f36f"
      },
      "execution_count": null,
      "outputs": [
        {
          "output_type": "stream",
          "name": "stdout",
          "text": [
            "2\n"
          ]
        }
      ]
    },
    {
      "cell_type": "code",
      "source": [
        "print(0o10)"
      ],
      "metadata": {
        "colab": {
          "base_uri": "https://localhost:8080/"
        },
        "id": "vNM2RHBN0pij",
        "outputId": "3d374330-9604-4fad-8520-e27815c34a3c"
      },
      "execution_count": null,
      "outputs": [
        {
          "output_type": "stream",
          "name": "stdout",
          "text": [
            "8\n"
          ]
        }
      ]
    },
    {
      "cell_type": "code",
      "source": [
        "print(0x10)"
      ],
      "metadata": {
        "colab": {
          "base_uri": "https://localhost:8080/"
        },
        "id": "xk7a4Cc-0tT5",
        "outputId": "4f210b13-d48e-4e3d-acdb-ea790c4e994e"
      },
      "execution_count": null,
      "outputs": [
        {
          "output_type": "stream",
          "name": "stdout",
          "text": [
            "16\n"
          ]
        }
      ]
    },
    {
      "cell_type": "code",
      "source": [
        "print(0xa)"
      ],
      "metadata": {
        "colab": {
          "base_uri": "https://localhost:8080/"
        },
        "id": "0C4OSfHb0wzV",
        "outputId": "5a0d53e8-093d-4ca3-efa4-4b06134feee9"
      },
      "execution_count": null,
      "outputs": [
        {
          "output_type": "stream",
          "name": "stdout",
          "text": [
            "10\n"
          ]
        }
      ]
    },
    {
      "cell_type": "code",
      "source": [
        "print(0xb)"
      ],
      "metadata": {
        "colab": {
          "base_uri": "https://localhost:8080/"
        },
        "id": "T8_OJoH_086Z",
        "outputId": "71dc262b-ed15-402f-a22a-3f620bf49a01"
      },
      "execution_count": null,
      "outputs": [
        {
          "output_type": "stream",
          "name": "stdout",
          "text": [
            "11\n"
          ]
        }
      ]
    },
    {
      "cell_type": "code",
      "source": [
        "print(10+5)\n",
        "print(10-5)\n",
        "print(10/2)\n",
        "print(10*2)"
      ],
      "metadata": {
        "colab": {
          "base_uri": "https://localhost:8080/"
        },
        "id": "IZiL-_o-098H",
        "outputId": "ac59edb0-063a-4cdb-ba6d-516a08672efd"
      },
      "execution_count": null,
      "outputs": [
        {
          "output_type": "stream",
          "name": "stdout",
          "text": [
            "15\n",
            "5\n",
            "5.0\n",
            "20\n"
          ]
        }
      ]
    },
    {
      "cell_type": "code",
      "source": [
        "print(2**3)"
      ],
      "metadata": {
        "colab": {
          "base_uri": "https://localhost:8080/"
        },
        "id": "RSdQehnm1KoT",
        "outputId": "b968565d-dc8d-476e-83c5-f874ea56c6db"
      },
      "execution_count": null,
      "outputs": [
        {
          "output_type": "stream",
          "name": "stdout",
          "text": [
            "8\n"
          ]
        }
      ]
    },
    {
      "cell_type": "code",
      "source": [
        "print(15%10)"
      ],
      "metadata": {
        "colab": {
          "base_uri": "https://localhost:8080/"
        },
        "id": "OKjZ7WJW1lrz",
        "outputId": "e19d4350-711a-4db2-cfbb-ceeb2b360b08"
      },
      "execution_count": null,
      "outputs": [
        {
          "output_type": "stream",
          "name": "stdout",
          "text": [
            "5\n"
          ]
        }
      ]
    },
    {
      "cell_type": "code",
      "source": [
        "print(15//10)"
      ],
      "metadata": {
        "colab": {
          "base_uri": "https://localhost:8080/"
        },
        "id": "p0R1O7Pk10xG",
        "outputId": "f9f99b24-b933-4a2d-d7bf-118400cfd56a"
      },
      "execution_count": null,
      "outputs": [
        {
          "output_type": "stream",
          "name": "stdout",
          "text": [
            "1\n"
          ]
        }
      ]
    },
    {
      "cell_type": "code",
      "source": [
        "문자열 = \"문자열 내욜\"\n",
        "문자열2 = '문자열내용2'\n",
        "문자열3 = \"\"\"문자열 내용3\"\"\"\n",
        "문자열4= '''문자열 내용4'''\n",
        "print(문자열)\n",
        "print(문자열2)\n",
        "print(문자열3)\n",
        "print(문자열4)"
      ],
      "metadata": {
        "colab": {
          "base_uri": "https://localhost:8080/"
        },
        "id": "3oCuDig214zx",
        "outputId": "8ee44385-aeb4-44c3-bf2f-da17f382ff02"
      },
      "execution_count": null,
      "outputs": [
        {
          "output_type": "stream",
          "name": "stdout",
          "text": [
            "문자열 내욜\n",
            "문자열내용2\n",
            "문자열 내용3\n",
            "문자열 내용4\n"
          ]
        }
      ]
    },
    {
      "cell_type": "code",
      "source": [
        "문자열5 = \"\"\"아니\n",
        "이건\n",
        "여러줄이 된다고?\n",
        "\"\"\"\n",
        "\n",
        "print(문자열5)"
      ],
      "metadata": {
        "colab": {
          "base_uri": "https://localhost:8080/"
        },
        "id": "UBPRogs5203v",
        "outputId": "7d0318e3-dc20-4c41-db7f-3469074b31f0"
      },
      "execution_count": null,
      "outputs": [
        {
          "output_type": "stream",
          "name": "stdout",
          "text": [
            "아니\n",
            "이건\n",
            "여러줄이 된다고?\n",
            "\n"
          ]
        }
      ]
    },
    {
      "cell_type": "code",
      "source": [
        "print(문자열)\n",
        "print(문자열2)\n",
        "print(문자열 + 문자열2)"
      ],
      "metadata": {
        "colab": {
          "base_uri": "https://localhost:8080/"
        },
        "id": "cJPvBmyQ3FhI",
        "outputId": "57a67780-ef13-48a1-fe12-396f8ce29724"
      },
      "execution_count": null,
      "outputs": [
        {
          "output_type": "stream",
          "name": "stdout",
          "text": [
            "문자열 내욜\n",
            "문자열내용2\n",
            "문자열 내욜문자열내용2\n"
          ]
        }
      ]
    },
    {
      "cell_type": "code",
      "source": [
        "이름 = \"김민재\"\n",
        "인사 = \"안녕하세요\"\n",
        "인삿말 = 인사 + \" \" + \"저는 \" + 이름 + \"입니다\\n\"\n",
        "print(인삿말*10)"
      ],
      "metadata": {
        "colab": {
          "base_uri": "https://localhost:8080/"
        },
        "id": "riWceitp3dqm",
        "outputId": "fba76001-c30f-4dab-917f-a14be1503fd4"
      },
      "execution_count": null,
      "outputs": [
        {
          "output_type": "stream",
          "name": "stdout",
          "text": [
            "안녕하세요 저는 김민재입니다\n",
            "안녕하세요 저는 김민재입니다\n",
            "안녕하세요 저는 김민재입니다\n",
            "안녕하세요 저는 김민재입니다\n",
            "안녕하세요 저는 김민재입니다\n",
            "안녕하세요 저는 김민재입니다\n",
            "안녕하세요 저는 김민재입니다\n",
            "안녕하세요 저는 김민재입니다\n",
            "안녕하세요 저는 김민재입니다\n",
            "안녕하세요 저는 김민재입니다\n",
            "\n"
          ]
        }
      ]
    },
    {
      "cell_type": "code",
      "source": [
        "이름길이 = len(이름)\n",
        "print(이름)\n",
        "print(이름길이)"
      ],
      "metadata": {
        "colab": {
          "base_uri": "https://localhost:8080/"
        },
        "id": "j3x-BIan4BDd",
        "outputId": "eca19deb-d991-405c-8450-ca696a850cf8"
      },
      "execution_count": null,
      "outputs": [
        {
          "output_type": "stream",
          "name": "stdout",
          "text": [
            "김민재\n",
            "3\n"
          ]
        }
      ]
    },
    {
      "cell_type": "code",
      "source": [
        "type(이름길이)"
      ],
      "metadata": {
        "colab": {
          "base_uri": "https://localhost:8080/"
        },
        "id": "kkDVc48s4wqf",
        "outputId": "1dbcf641-02a6-48b0-9ff8-2570cab52692"
      },
      "execution_count": null,
      "outputs": [
        {
          "output_type": "execute_result",
          "data": {
            "text/plain": [
              "int"
            ]
          },
          "metadata": {},
          "execution_count": 79
        }
      ]
    },
    {
      "cell_type": "code",
      "source": [
        "print([1,2,3,4,5]) #[자료,자료,자료]"
      ],
      "metadata": {
        "colab": {
          "base_uri": "https://localhost:8080/"
        },
        "id": "QNeTdfOb4_qj",
        "outputId": "244b21e3-eef0-4bf2-ba72-f2ca031a51d2"
      },
      "execution_count": null,
      "outputs": [
        {
          "output_type": "stream",
          "name": "stdout",
          "text": [
            "[1, 2, 3, 4, 5]\n"
          ]
        }
      ]
    },
    {
      "cell_type": "code",
      "source": [
        "type([1,2,3,4,5])"
      ],
      "metadata": {
        "colab": {
          "base_uri": "https://localhost:8080/"
        },
        "id": "yVsCNWKr9Bjq",
        "outputId": "ae51cc0b-2709-4742-e6b8-4dc6822c8703"
      },
      "execution_count": null,
      "outputs": [
        {
          "output_type": "execute_result",
          "data": {
            "text/plain": [
              "list"
            ]
          },
          "metadata": {},
          "execution_count": 86
        }
      ]
    },
    {
      "cell_type": "code",
      "source": [
        "배열 = [-1,10.2,\"이름\",[1,2,3]]\n",
        "print(배열)"
      ],
      "metadata": {
        "colab": {
          "base_uri": "https://localhost:8080/"
        },
        "id": "JxK9FlgU9QDJ",
        "outputId": "e79c861d-e3ad-4458-cfd2-5b576e327e8c"
      },
      "execution_count": null,
      "outputs": [
        {
          "output_type": "stream",
          "name": "stdout",
          "text": [
            "[-1, 10.2, '이름', [1, 2, 3]]\n"
          ]
        }
      ]
    },
    {
      "cell_type": "code",
      "source": [
        "print(배열[0])"
      ],
      "metadata": {
        "colab": {
          "base_uri": "https://localhost:8080/"
        },
        "id": "zcJQKUmo9ZS9",
        "outputId": "4c48e25b-7cd5-444f-a911-19a9f74fca72"
      },
      "execution_count": null,
      "outputs": [
        {
          "output_type": "stream",
          "name": "stdout",
          "text": [
            "-1\n"
          ]
        }
      ]
    },
    {
      "cell_type": "code",
      "source": [
        "print(배열[1])"
      ],
      "metadata": {
        "colab": {
          "base_uri": "https://localhost:8080/"
        },
        "id": "kx9VP_eV9kBF",
        "outputId": "f4e7b327-0494-4242-c9ec-866bdcdcc9f0"
      },
      "execution_count": null,
      "outputs": [
        {
          "output_type": "stream",
          "name": "stdout",
          "text": [
            "10.2\n"
          ]
        }
      ]
    },
    {
      "cell_type": "code",
      "source": [
        "print(배열[2])"
      ],
      "metadata": {
        "colab": {
          "base_uri": "https://localhost:8080/"
        },
        "id": "RXIKkEqu9nK4",
        "outputId": "242c1007-5364-4dc0-afe2-f8828eb8f863"
      },
      "execution_count": null,
      "outputs": [
        {
          "output_type": "stream",
          "name": "stdout",
          "text": [
            "이름\n"
          ]
        }
      ]
    },
    {
      "cell_type": "code",
      "source": [
        "print(배열[3])"
      ],
      "metadata": {
        "colab": {
          "base_uri": "https://localhost:8080/"
        },
        "id": "fhiNuUGq9wK9",
        "outputId": "cefa601f-6cf3-45f0-a715-67182b03768a"
      },
      "execution_count": null,
      "outputs": [
        {
          "output_type": "stream",
          "name": "stdout",
          "text": [
            "[1, 2, 3]\n"
          ]
        }
      ]
    },
    {
      "cell_type": "code",
      "source": [
        "print(배열[3][1])"
      ],
      "metadata": {
        "colab": {
          "base_uri": "https://localhost:8080/"
        },
        "id": "974xC9KB94Hj",
        "outputId": "2602c276-5fef-4f38-eb27-2c68ad0a1d61"
      },
      "execution_count": null,
      "outputs": [
        {
          "output_type": "stream",
          "name": "stdout",
          "text": [
            "2\n"
          ]
        }
      ]
    },
    {
      "cell_type": "code",
      "source": [
        "print(len(배열))"
      ],
      "metadata": {
        "colab": {
          "base_uri": "https://localhost:8080/"
        },
        "id": "izE1v4YV-BAu",
        "outputId": "2cf63960-6156-4791-a29e-3ee9267b3b3b"
      },
      "execution_count": null,
      "outputs": [
        {
          "output_type": "stream",
          "name": "stdout",
          "text": [
            "4\n"
          ]
        }
      ]
    },
    {
      "cell_type": "code",
      "source": [
        "print(배열[len(배열)-1]) # 마지막값 꺼내기"
      ],
      "metadata": {
        "colab": {
          "base_uri": "https://localhost:8080/"
        },
        "id": "zxGk9iWf-aZ7",
        "outputId": "18bd8fe1-0826-40be-9baa-52eb43f39b1d"
      },
      "execution_count": null,
      "outputs": [
        {
          "output_type": "stream",
          "name": "stdout",
          "text": [
            "[1, 2, 3]\n"
          ]
        }
      ]
    },
    {
      "cell_type": "code",
      "source": [
        "print(배열[-1]) # 마지막값 꺼내기"
      ],
      "metadata": {
        "colab": {
          "base_uri": "https://localhost:8080/"
        },
        "id": "y1gjum3b-h-5",
        "outputId": "2ef3027e-1565-4511-8625-c201ffbd9e7a"
      },
      "execution_count": null,
      "outputs": [
        {
          "output_type": "stream",
          "name": "stdout",
          "text": [
            "[1, 2, 3]\n"
          ]
        }
      ]
    },
    {
      "cell_type": "code",
      "source": [
        "print(배열)"
      ],
      "metadata": {
        "colab": {
          "base_uri": "https://localhost:8080/"
        },
        "id": "vQ0EFsY0-kC3",
        "outputId": "960b5817-741b-4715-c440-27e3473d536c"
      },
      "execution_count": null,
      "outputs": [
        {
          "output_type": "stream",
          "name": "stdout",
          "text": [
            "[-1, 10.2, '이름', [1, 2, 3]]\n"
          ]
        }
      ]
    },
    {
      "cell_type": "code",
      "source": [
        "print(배열[1:3])"
      ],
      "metadata": {
        "colab": {
          "base_uri": "https://localhost:8080/"
        },
        "id": "z7dGM2R9-wyk",
        "outputId": "8e633541-903c-44ae-c75f-b8e7c6da162a"
      },
      "execution_count": null,
      "outputs": [
        {
          "output_type": "stream",
          "name": "stdout",
          "text": [
            "[10.2, '이름']\n"
          ]
        }
      ]
    },
    {
      "cell_type": "code",
      "source": [
        "print(배열[2:2])"
      ],
      "metadata": {
        "colab": {
          "base_uri": "https://localhost:8080/"
        },
        "id": "08yBPyM5-4r4",
        "outputId": "414d7c38-0f83-42ce-94ed-39bfa99c8aed"
      },
      "execution_count": null,
      "outputs": [
        {
          "output_type": "stream",
          "name": "stdout",
          "text": [
            "[]\n"
          ]
        }
      ]
    },
    {
      "cell_type": "code",
      "source": [
        "배열[-1] = 10\n",
        "print(배열)"
      ],
      "metadata": {
        "colab": {
          "base_uri": "https://localhost:8080/"
        },
        "id": "13qWQXtr_Ect",
        "outputId": "a34c59d1-1dc7-45cf-c268-6ec5f8bd4f3f"
      },
      "execution_count": null,
      "outputs": [
        {
          "output_type": "stream",
          "name": "stdout",
          "text": [
            "[-1, 10.2, '이름', 10]\n"
          ]
        }
      ]
    },
    {
      "cell_type": "code",
      "source": [
        "배열[:][-1] = [1,2,3]"
      ],
      "metadata": {
        "id": "g2AVjYuZ_QGG"
      },
      "execution_count": null,
      "outputs": []
    },
    {
      "cell_type": "code",
      "source": [
        "print(배열)"
      ],
      "metadata": {
        "colab": {
          "base_uri": "https://localhost:8080/"
        },
        "id": "-43JaMpp_bWN",
        "outputId": "e49508b7-387b-4df7-a035-b2894066645f"
      },
      "execution_count": null,
      "outputs": [
        {
          "output_type": "stream",
          "name": "stdout",
          "text": [
            "[-1, 10.2, '이름', 10]\n"
          ]
        }
      ]
    },
    {
      "cell_type": "code",
      "source": [
        "문제 = \"01033334444\"\n",
        "print(\"*******\",문제[7:11],sep='')"
      ],
      "metadata": {
        "colab": {
          "base_uri": "https://localhost:8080/"
        },
        "id": "4HVhJmp3_dXQ",
        "outputId": "2afc3108-395e-4f52-e257-175bf73fe1ac"
      },
      "execution_count": null,
      "outputs": [
        {
          "output_type": "stream",
          "name": "stdout",
          "text": [
            "*******4444\n"
          ]
        }
      ]
    },
    {
      "cell_type": "code",
      "source": [
        "문제 = \"01033334444\"\n",
        "print(문제[:-4])\n",
        "앞번호 = 문제[:-4]\n",
        "별 = len(문제[:-4])*'*'\n",
        "뒷번호 = 문제[-4:]\n",
        "print(앞번호+뒷번호)\n",
        "print(별+뒷번호)"
      ],
      "metadata": {
        "colab": {
          "base_uri": "https://localhost:8080/"
        },
        "id": "NCDi5xZFArCc",
        "outputId": "d8995096-0ad0-4434-b2e3-4ee4b0f99156"
      },
      "execution_count": null,
      "outputs": [
        {
          "output_type": "stream",
          "name": "stdout",
          "text": [
            "0103333\n",
            "01033334444\n",
            "*******4444\n"
          ]
        }
      ]
    },
    {
      "cell_type": "code",
      "source": [
        ""
      ],
      "metadata": {
        "id": "NI5kA-yEGiFT"
      },
      "execution_count": null,
      "outputs": []
    }
  ]
}