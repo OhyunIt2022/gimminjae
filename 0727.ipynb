{
  "nbformat": 4,
  "nbformat_minor": 0,
  "metadata": {
    "colab": {
      "name": "0727.ipynb",
      "provenance": []
    },
    "kernelspec": {
      "name": "python3",
      "display_name": "Python 3"
    },
    "language_info": {
      "name": "python"
    }
  },
  "cells": [
    {
      "cell_type": "markdown",
      "source": [
        "# 함수\n",
        "함수란 어떤기능을 제공하는것<br>\n",
        "우리가 이전시간에 만들었던 계산기를 살펴 보겠습니다.\n"
      ],
      "metadata": {
        "id": "HQHX-A8FGABy"
      }
    },
    {
      "cell_type": "code",
      "execution_count": null,
      "metadata": {
        "colab": {
          "base_uri": "https://localhost:8080/"
        },
        "id": "yuIwt6pHEEdL",
        "outputId": "7e84bd6c-7c29-4220-cd07-069844f4c695"
      },
      "outputs": [
        {
          "output_type": "stream",
          "name": "stdout",
          "text": [
            "사칙연산 기호(+ - * /)를 입력해주세요1\n",
            "첫번째숫자를 입력해주세요1\n",
            "두번째숫자를 입력해주세요1\n",
            "종료하려면 1을 입력해주세요1\n",
            "종료합니다.\n"
          ]
        }
      ],
      "source": [
        "while True:\n",
        "    # 입력값 받기\n",
        "    사칙연산 = input(\"사칙연산 기호(+ - * /)를 입력해주세요\")\n",
        "    첫번째숫자 = int(input(\"첫번째숫자를 입력해주세요\"))\n",
        "    두번째숫자 = int(input(\"두번째숫자를 입력해주세요\"))\n",
        "    # 계산 및 출력\n",
        "    if 사칙연산==\"+\":\n",
        "        print(\"더하기입니다.\")\n",
        "        print(첫번째숫자+두번째숫자)\n",
        "    elif 사칙연산==\"-\":\n",
        "        print(\"빼기입니다.\")\n",
        "        print(첫번째숫자-두번째숫자)\n",
        "    elif 사칙연산==\"*\":\n",
        "        print(\"곱하기입니다.\")\n",
        "        print(첫번째숫자*두번째숫자)\n",
        "    elif 사칙연산==\"/\":\n",
        "        print(\"나누기입니다.\")\n",
        "        print(첫번째숫자/두번째숫자)\n",
        "    # 종료 여부 확인 후 종료\n",
        "    종료여부 = input(\"종료하려면 1을 입력해주세요\")\n",
        "    if 종료여부==\"1\":\n",
        "        print(\"종료합니다.\")\n",
        "        break"
      ]
    },
    {
      "cell_type": "markdown",
      "source": [
        "잘 동작합니다.\n",
        "다만 잘 동작한다고 끝이 아닙니다.<br>\n",
        "만약 먼 미래에 자신이 이 코드를 보고 어떤기능인지 바로 알 수있을까요?<br>\n",
        "주석이 없는 코드라면 매우어려울것입니다. 그래서 우리는 주석을 달아둔것이구요<br>\n",
        "우리는 주석을 달기위해 반복문 안의 코드를 크게 3단계로 나누었습니다.<br>\n",
        "- 단계\n",
        "    1. 입력값 받기\n",
        "    2. 계산 및 출력\n",
        "    3. 종료\n",
        "\n",
        "주석을 보고 해석을 하면 되겠지만 주석이 없는경우 매우 힘듭니다.\n",
        "\n",
        "\n",
        "사실 주석이 없다면 어떤 코드인지 하나하나 해석을 해야합니다.<br>\n",
        "하지만 각각의 코드들을 묶어서 어떤 기능을 하는것으로 만든다면 어떨까요?<br>\n",
        "```\n",
        "while True:\n",
        "    1. 입력값 받기\n",
        "    2. 계산 및 출력\n",
        "    3. 종료\n",
        "```\n",
        "이런식으로요!<br>\n",
        "어떤가요 한눈에 어떤행동을 하는지 알아보기 쉽지 않나요?<br>\n",
        "파이썬에서는 이런 일련의 논리(logic)들을 모아서 만들어 기능을 제공하는것을 할 수 있습니다. <br>\n",
        "\n",
        "그리고 이런 기능을 제공하는것을 함수라고합니다.<br>\n",
        "수학시간에 배웠던 함수의 개념과 비슷합니다.<br>\n",
        "$ f(x) = x+2 $라는 수식이 있습니다.<br>\n",
        "$f(x)$에서 f가 function(함수라는 뜻)의 앞글자를 따온것 입니다. <br>\n",
        "x를 받아 2를 더해주는 함수네요.<br>\n",
        "함수란 어떤 기능을 가지고있는 것을 의미합니다.<br>\n",
        "\n",
        "그리고 함수를 만드는 것을 함수를 정의한다 라고 합니다.\n",
        "```\n",
        "def 함수명(매개변수):\n",
        "    수행할 문장(logic)\n",
        "    retrun 결과값\n",
        "```\n",
        "와 같은 형식으로 만들 수 있습니다.<br>\n",
        "def는 define(정의하다)의 앞 3글자에서 따온것입니다. 따라서 함수를 만드는행위를 함수를 정의한다고 할 수 있습니다.<br>\n",
        "위 괄호안에 매개변수 라는것이 있는데 이것이 $f(x)$에서 x부분입니다!<br>\n"
      ],
      "metadata": {
        "id": "KPWNki16JiyV"
      }
    },
    {
      "cell_type": "code",
      "source": [
        "#함수만들기, 함수정의, 함수선언\n",
        "def hello():\n",
        "  print(\"안녕하세요\")"
      ],
      "metadata": {
        "id": "B2FfIYFfIpAr"
      },
      "execution_count": null,
      "outputs": []
    },
    {
      "cell_type": "code",
      "source": [
        "hello()"
      ],
      "metadata": {
        "colab": {
          "base_uri": "https://localhost:8080/"
        },
        "id": "3BRPAWPLLGc0",
        "outputId": "b68d4777-3f8d-45ed-f3c5-89dfd8623f5c"
      },
      "execution_count": null,
      "outputs": [
        {
          "output_type": "stream",
          "name": "stdout",
          "text": [
            "안녕하세요\n"
          ]
        }
      ]
    },
    {
      "cell_type": "code",
      "source": [
        "def helloToName(name):\n",
        "  print(name, \"님 안녕하세요\",sep='')"
      ],
      "metadata": {
        "id": "OswrLTRKLLGA"
      },
      "execution_count": null,
      "outputs": []
    },
    {
      "cell_type": "code",
      "source": [
        "helloToName(\"최원범\")"
      ],
      "metadata": {
        "colab": {
          "base_uri": "https://localhost:8080/"
        },
        "id": "0o1cfJYhLWm0",
        "outputId": "b6f49b5a-3f34-401a-80f0-1b4758451e6f"
      },
      "execution_count": null,
      "outputs": [
        {
          "output_type": "stream",
          "name": "stdout",
          "text": [
            "최원범님 안녕하세요\n"
          ]
        }
      ]
    },
    {
      "cell_type": "code",
      "source": [
        "def add(num,num2):\n",
        "  result = num + num2"
      ],
      "metadata": {
        "id": "VnuH69laLYwN"
      },
      "execution_count": null,
      "outputs": []
    },
    {
      "cell_type": "code",
      "source": [
        "add(1,2)"
      ],
      "metadata": {
        "id": "mBZE38srL2bO"
      },
      "execution_count": null,
      "outputs": []
    },
    {
      "cell_type": "code",
      "source": [
        "addResult = add(1,2)"
      ],
      "metadata": {
        "id": "HXzw7mr-L3c7"
      },
      "execution_count": null,
      "outputs": []
    },
    {
      "cell_type": "code",
      "source": [
        "print(addResult)"
      ],
      "metadata": {
        "colab": {
          "base_uri": "https://localhost:8080/"
        },
        "id": "wWHIfwUcMBfD",
        "outputId": "9e6002d5-6541-426b-af7e-19603572a679"
      },
      "execution_count": null,
      "outputs": [
        {
          "output_type": "stream",
          "name": "stdout",
          "text": [
            "None\n"
          ]
        }
      ]
    },
    {
      "cell_type": "code",
      "source": [
        "def add2(num,num2):\n",
        "  result = num + num2 \n",
        "  return result"
      ],
      "metadata": {
        "id": "aNqFifA0MChG"
      },
      "execution_count": null,
      "outputs": []
    },
    {
      "cell_type": "code",
      "source": [
        "addResult2 = add2(1,2)\n",
        "print(addResult2)"
      ],
      "metadata": {
        "colab": {
          "base_uri": "https://localhost:8080/"
        },
        "id": "X9ovs9IhMN4a",
        "outputId": "8abd373e-6b5c-4270-8136-5f44997c0b21"
      },
      "execution_count": null,
      "outputs": [
        {
          "output_type": "stream",
          "name": "stdout",
          "text": [
            "3\n"
          ]
        }
      ]
    },
    {
      "cell_type": "code",
      "source": [
        "def add3(num,num2):\n",
        "  result = num+num2\n",
        "  return result\n",
        "  print(\"hi\")\n",
        "add3(1,2)"
      ],
      "metadata": {
        "colab": {
          "base_uri": "https://localhost:8080/"
        },
        "id": "OGnSRPZLMQo-",
        "outputId": "b8904da8-039c-4fa7-f326-b3db043f6668"
      },
      "execution_count": null,
      "outputs": [
        {
          "output_type": "execute_result",
          "data": {
            "text/plain": [
              "3"
            ]
          },
          "metadata": {},
          "execution_count": 38
        }
      ]
    },
    {
      "cell_type": "code",
      "source": [
        "#아래와 같이 만들어진경우에는\n",
        "#x와 y가 뒤죽박죽이된다.\n",
        "#함수를 사용할때 명확하지못하다.\n",
        "def x빼기y(y,x):\n",
        "  뺄셈결과 = x - y\n",
        "  print(뺄셈결과)\n",
        "x빼기y(20,10)#-10\n",
        "#매개변수를 함수에 넣을떄\n",
        "#매개변수명을 지정할 수 있다.\n",
        "x빼기y(x=20, y=10) #10\n"
      ],
      "metadata": {
        "colab": {
          "base_uri": "https://localhost:8080/"
        },
        "id": "dNbdkoorNMpJ",
        "outputId": "0c9c28ec-50e1-430e-ede5-c6cdbf2b9340"
      },
      "execution_count": null,
      "outputs": [
        {
          "output_type": "stream",
          "name": "stdout",
          "text": [
            "-10\n",
            "10\n"
          ]
        }
      ]
    },
    {
      "cell_type": "code",
      "source": [
        "def 덧셈뺄셈(x,y):\n",
        "    덧셈결과 = x+y\n",
        "    뺄셈결과 = x-y\n",
        "    return 덧셈결과, 뺄셈결과"
      ],
      "metadata": {
        "id": "FPMvfr4-Njh8"
      },
      "execution_count": null,
      "outputs": []
    },
    {
      "cell_type": "code",
      "source": [
        "결과 = 덧셈뺄셈(1,2)\n",
        "print(결과)"
      ],
      "metadata": {
        "colab": {
          "base_uri": "https://localhost:8080/"
        },
        "id": "WBW6X6q_S6hR",
        "outputId": "5e237e62-7036-4e4a-cc63-c307d7ebd067"
      },
      "execution_count": null,
      "outputs": [
        {
          "output_type": "stream",
          "name": "stdout",
          "text": [
            "(3, -1)\n"
          ]
        }
      ]
    },
    {
      "cell_type": "code",
      "source": [
        "함수실행결과 = 덧셈뺄셈(20,10)#함수실행결과 = (30, 10)\n",
        "print(함수실행결과)\n",
        "print(type(함수실행결과))\n",
        "print(함수실행결과[0],함수실행결과[1])\n",
        "덧셈결과 = 함수실행결과[0]\n",
        "뺄셈결과 = 함수실행결과[1]\n",
        "print(덧셈결과)\n",
        "print(뺄셈결과)"
      ],
      "metadata": {
        "id": "GVkCBeVdS9yR"
      },
      "execution_count": null,
      "outputs": []
    },
    {
      "cell_type": "code",
      "source": [
        "def 덧셈뺄셈(x,y):\n",
        "    덧셈결과 = x+y\n",
        "    뺄셈결과 = x-y\n",
        "    return 덧셈결과, 뺄셈결과\n",
        "함수실행결과 = 덧셈뺄셈(20,10)#함수실행결과 = (30,10)\n",
        "print(함수실행결과)\n",
        "print(type(함수실행결과))\n",
        "print(함수실행결과[0],함수실행결과[1])\n",
        "덧셈결과 = 함수실행결과[0]\n",
        "뺼셈결과 = 함수실행결과[1]\n",
        "print(덧셈결과)\n",
        "print(뺄셈결과)"
      ],
      "metadata": {
        "colab": {
          "base_uri": "https://localhost:8080/"
        },
        "id": "Oi4E5pQZTflc",
        "outputId": "8dfee296-dfa7-4e12-d33b-3c520a923518"
      },
      "execution_count": 49,
      "outputs": [
        {
          "output_type": "stream",
          "name": "stdout",
          "text": [
            "(30, 10)\n",
            "<class 'tuple'>\n",
            "30 10\n",
            "30\n",
            "10\n"
          ]
        }
      ]
    },
    {
      "cell_type": "code",
      "source": [
        "덧셈결과, 뺄셈결과 = 덧셈뺄셈(20,10)\n",
        "print(덧셈결과)\n",
        "print(뺼셈결과)"
      ],
      "metadata": {
        "colab": {
          "base_uri": "https://localhost:8080/"
        },
        "id": "CLKf9SACTmUM",
        "outputId": "d7997826-9070-4ff2-98d7-d30b1d69dac5"
      },
      "execution_count": 48,
      "outputs": [
        {
          "output_type": "stream",
          "name": "stdout",
          "text": [
            "30\n",
            "10\n"
          ]
        }
      ]
    },
    {
      "cell_type": "code",
      "source": [
        "def 값입력하기():\n",
        "  사칙연산 = input(\"사칙연산 기호(+ - * /를 입력해주세요\")\n",
        "  첫번째숫자 = int(input(\"첫번째숫자를 입력해주세요\"))\n",
        "  두번째숫자 = int(input(\"두번째숫자를 입력해주세요\"))\n",
        "  return 사칙연산, 첫번째숫자, 두번째숫자"
      ],
      "metadata": {
        "id": "A2xbnAkSUaUE"
      },
      "execution_count": 71,
      "outputs": []
    },
    {
      "cell_type": "code",
      "source": [
        "사칙연산, 첫번째숫자, 두번째숫자 = 값입력하기()"
      ],
      "metadata": {
        "colab": {
          "base_uri": "https://localhost:8080/"
        },
        "id": "JKKYVqoCVtMO",
        "outputId": "f72dd6bc-015f-431b-ebb6-ec08b7a874b7"
      },
      "execution_count": 57,
      "outputs": [
        {
          "name": "stdout",
          "output_type": "stream",
          "text": [
            "사칙연산 기호(+ - * /를 입력해주세요+\n",
            "첫번째숫자를 입력해주세요4\n",
            "두번째숫자를 입력해주세요3\n"
          ]
        }
      ]
    },
    {
      "cell_type": "code",
      "source": [
        "print(사칙연산, 첫번째숫자, 두번째숫자)"
      ],
      "metadata": {
        "colab": {
          "base_uri": "https://localhost:8080/"
        },
        "id": "4Gp7y9SLV7te",
        "outputId": "39bb99a9-8b6e-48c1-d463-7bff859c6d9f"
      },
      "execution_count": 58,
      "outputs": [
        {
          "output_type": "stream",
          "name": "stdout",
          "text": [
            "+ 4 3\n"
          ]
        }
      ]
    },
    {
      "cell_type": "code",
      "source": [
        "def 계산및출력(사칙연산, 첫번째숫자, 두번째숫자):\n",
        "    if 사칙연산==\"+\":\n",
        "        print(\"더하기입니다.\")\n",
        "        print(첫번째숫자+두번째숫자)\n",
        "    elif 사칙연산==\"-\":\n",
        "        print(\"빼기입니다.\")\n",
        "        print(첫번째숫자-두번째숫자)\n",
        "    elif 사칙연산==\"*\":\n",
        "        print(\"곱하기입니다.\")\n",
        "        print(첫번째숫자*두번째숫자)\n",
        "    elif 사칙연산==\"/\":\n",
        "        print(\"나누기입니다.\")\n",
        "        print(첫번째숫자/두번째숫자)"
      ],
      "metadata": {
        "id": "ngI3KhVXWH0U"
      },
      "execution_count": 60,
      "outputs": []
    },
    {
      "cell_type": "code",
      "source": [
        "계산및출력(사칙연산=\"+\",첫번째숫자=10,두번째숫자=20)"
      ],
      "metadata": {
        "colab": {
          "base_uri": "https://localhost:8080/"
        },
        "id": "GiObpYZhWeCc",
        "outputId": "e1d5a734-43cd-4fed-ef15-aee1a3419686"
      },
      "execution_count": 63,
      "outputs": [
        {
          "output_type": "stream",
          "name": "stdout",
          "text": [
            "더하기입니다.\n",
            "30\n"
          ]
        }
      ]
    },
    {
      "cell_type": "code",
      "source": [
        "def 종료여부확인():\n",
        "  종료여부 = input(\"종료하려면 1을 입력해주세요\")\n",
        "  return 종료여부==\"1\""
      ],
      "metadata": {
        "id": "LR4DbN7QXGsx"
      },
      "execution_count": 64,
      "outputs": []
    },
    {
      "cell_type": "code",
      "source": [
        "종료여부확인()"
      ],
      "metadata": {
        "colab": {
          "base_uri": "https://localhost:8080/"
        },
        "id": "edVA_M5PXnkJ",
        "outputId": "a8f53469-3463-461e-d43c-9e17dbccf152"
      },
      "execution_count": 66,
      "outputs": [
        {
          "name": "stdout",
          "output_type": "stream",
          "text": [
            "종료하려면 1을 입력해주세요4\n"
          ]
        },
        {
          "output_type": "execute_result",
          "data": {
            "text/plain": [
              "False"
            ]
          },
          "metadata": {},
          "execution_count": 66
        }
      ]
    },
    {
      "cell_type": "code",
      "source": [
        "while True:\n",
        "  기호, 첫번쨰숫자, 두번째숫자 = 값입력하기()\n",
        "  계산및출력(기호, 첫번째숫자, 두번째숫자)\n",
        "  종료여부 = 종료여부확인()\n",
        "  if 종료여부:\n",
        "    break"
      ],
      "metadata": {
        "colab": {
          "base_uri": "https://localhost:8080/"
        },
        "id": "ZcM8h_S4XpA4",
        "outputId": "bbfbe543-33f3-4bcd-efc9-2e6d6a238b19"
      },
      "execution_count": 67,
      "outputs": [
        {
          "name": "stdout",
          "output_type": "stream",
          "text": [
            "사칙연산 기호(+ - * /를 입력해주세요+\n",
            "첫번째숫자를 입력해주세요3\n",
            "두번째숫자를 입력해주세요4\n",
            "더하기입니다.\n",
            "8\n",
            "종료하려면 1을 입력해주세요1\n"
          ]
        }
      ]
    },
    {
      "cell_type": "code",
      "source": [
        "def 계산기():\n",
        "  while True:\n",
        "    기호, 첫번쨰숫자, 두번째숫자 = 값입력하기()\n",
        "    계산및출력(기호, 첫번째숫자, 두번째숫자)\n",
        "    종료여부 = 종료여부확인()\n",
        "    if 종료여부:\n",
        "      break"
      ],
      "metadata": {
        "id": "ISC42h7oY9SW"
      },
      "execution_count": 73,
      "outputs": []
    },
    {
      "cell_type": "code",
      "source": [
        "계산기()"
      ],
      "metadata": {
        "colab": {
          "base_uri": "https://localhost:8080/"
        },
        "id": "wIc_TpvRZtOr",
        "outputId": "c1d65106-1fca-4d19-d068-592e14c750b0"
      },
      "execution_count": 75,
      "outputs": [
        {
          "name": "stdout",
          "output_type": "stream",
          "text": [
            "사칙연산 기호(+ - * /를 입력해주세요+\n",
            "첫번째숫자를 입력해주세요3\n",
            "두번째숫자를 입력해주세요1\n",
            "더하기입니다.\n",
            "5\n",
            "종료하려면 1을 입력해주세요1\n"
          ]
        }
      ]
    },
    {
      "cell_type": "markdown",
      "source": [
        "#type 살펴보기\n",
        "먼저 정수를 값으로 가지고있는 변수를 하나 만들겠습니다.\n",
        "type함수를 이용해 \n"
      ],
      "metadata": {
        "id": "LcrQn6tLixLD"
      }
    },
    {
      "cell_type": "markdown",
      "source": [
        ""
      ],
      "metadata": {
        "id": "AT-J_6KnixIq"
      }
    },
    {
      "cell_type": "code",
      "source": [
        "string = \"hello\"\n",
        "print(type(string))"
      ],
      "metadata": {
        "colab": {
          "base_uri": "https://localhost:8080/"
        },
        "id": "ebKDxHrUZ8_N",
        "outputId": "d1cbd43f-e8f5-41c0-e615-7401e6021cf0"
      },
      "execution_count": 77,
      "outputs": [
        {
          "output_type": "stream",
          "name": "stdout",
          "text": [
            "<class 'str'>\n"
          ]
        }
      ]
    },
    {
      "cell_type": "code",
      "source": [
        "class Animal:\n",
        "  pass"
      ],
      "metadata": {
        "id": "6a8JipMTi7xh"
      },
      "execution_count": 78,
      "outputs": []
    },
    {
      "cell_type": "code",
      "source": [
        "animal = Animal()\n",
        "print(type(animal))"
      ],
      "metadata": {
        "colab": {
          "base_uri": "https://localhost:8080/"
        },
        "id": "4WpuxxM-jdkQ",
        "outputId": "27f3be08-07f8-4a65-adda-b75e56c7d6c4"
      },
      "execution_count": 79,
      "outputs": [
        {
          "output_type": "stream",
          "name": "stdout",
          "text": [
            "<class '__main__.Animal'>\n"
          ]
        }
      ]
    },
    {
      "cell_type": "code",
      "source": [
        "class Animal:\n",
        "  kor = \"동물\"\n",
        "  def 숨쉬기():\n",
        "    print(\"숨을 쉽니다\")\n",
        "  def 움직이기():\n",
        "    print(\"몸을 움직입니다\")"
      ],
      "metadata": {
        "id": "Kjw9iNjyjqZU"
      },
      "execution_count": 80,
      "outputs": []
    },
    {
      "cell_type": "code",
      "source": [
        "개 = Animal()\n",
        "print(type(개))\n",
        "print(\"=========================\")\n",
        "개.숨쉬기()\n",
        "개.움직이기()"
      ],
      "metadata": {
        "colab": {
          "base_uri": "https://localhost:8080/"
        },
        "id": "TdnDbXLokGcE",
        "outputId": "16ed6e0a-d39b-4280-bddd-e02df30a5555"
      },
      "execution_count": 118,
      "outputs": [
        {
          "output_type": "stream",
          "name": "stdout",
          "text": [
            "<class '__main__.Animal'>\n",
            "=========================\n",
            "숨을 쉽니다\n",
            "몸을 움직입니다\n"
          ]
        }
      ]
    },
    {
      "cell_type": "code",
      "source": [
        "class Animal:\n",
        "  kor = \"동물\"\n",
        "  def 숨쉬기(self):\n",
        "    print(\"숨을 쉽니다\")\n",
        "  def 움직이기(self):\n",
        "    print(\"몸을 움직입니다\")\n",
        "  def 말하기(self, 문장):\n",
        "    print(문장)\n",
        "animal = Animal()\n",
        "animal.숨쉬기()\n",
        "animal.움직이기()\n",
        "animal.말하기(\"안녕하세요\")\n",
        "print( animal.kor)"
      ],
      "metadata": {
        "colab": {
          "base_uri": "https://localhost:8080/"
        },
        "id": "_hMvS_FHkbyt",
        "outputId": "0dfc68f4-7fd3-4c29-a00a-32e8508267fb"
      },
      "execution_count": 84,
      "outputs": [
        {
          "output_type": "stream",
          "name": "stdout",
          "text": [
            "숨을 쉽니다\n",
            "몸을 움직입니다\n",
            "안녕하세요\n",
            "동물\n"
          ]
        }
      ]
    },
    {
      "cell_type": "code",
      "source": [
        "class Animal:\n",
        "  kor = \"동물\"\n",
        "  def _init_(self):\n",
        "    print(\"태어났습니다\")\n",
        "  def 숨쉬기(self):\n",
        "    print(\"숨을 쉽니다\")\n",
        "  def 움직이기(self):\n",
        "    print(\"몸을 움직입니다\")\n",
        "  def 말하기(self, 문장):\n",
        "    print(문장)\n",
        "  def _del_(self):\n",
        "    print(\"죽었습니다\")\n",
        "animal = Animal()\n",
        "print(\"=========================\")\n",
        "del animal"
      ],
      "metadata": {
        "colab": {
          "base_uri": "https://localhost:8080/"
        },
        "id": "e3EhhPfxlmC4",
        "outputId": "0cdb1271-0f9a-49fd-eaa2-7c1a114ce2b9"
      },
      "execution_count": 87,
      "outputs": [
        {
          "output_type": "stream",
          "name": "stdout",
          "text": [
            "=========================\n"
          ]
        }
      ]
    },
    {
      "cell_type": "code",
      "source": [
        "class Animal:\n",
        "  def _init_(self,키,생일):\n",
        "    self.키 = 키\n",
        "    self.생일 = 생일\n",
        "    print(\"태어났습니다\")\n",
        "  def 키얻기(self):\n",
        "    print(f\"키는 {self.키}cm 입니다\")\n",
        "  def 생일얻기(self):\n",
        "    print(f\"생일은 {self.생일} 입니다\")\n",
        "  def 숨쉬기(self):\n",
        "    print(\"숨을 쉽니다\")\n",
        "  def 움직이기(self):\n",
        "    print(\"몸을 움직입니다\")\n",
        "  def 말하기(self, 문장):\n",
        "    print(문장)\n",
        "    del animal"
      ],
      "metadata": {
        "id": "4I-jRsw7mmBN"
      },
      "execution_count": 100,
      "outputs": []
    },
    {
      "cell_type": "code",
      "source": [
        "animal = Animal(키=30, 생일=20220219)\n",
        "print(animal,키)\n",
        "animal.키얻기()"
      ],
      "metadata": {
        "colab": {
          "base_uri": "https://localhost:8080/",
          "height": 207
        },
        "id": "my1xeFRsn9Pf",
        "outputId": "ff9268f9-bcb3-44eb-ec18-c0e82255d9c4"
      },
      "execution_count": 122,
      "outputs": [
        {
          "output_type": "error",
          "ename": "TypeError",
          "evalue": "ignored",
          "traceback": [
            "\u001b[0;31m---------------------------------------------------------------------------\u001b[0m",
            "\u001b[0;31mTypeError\u001b[0m                                 Traceback (most recent call last)",
            "\u001b[0;32m<ipython-input-122-47e6579b16ae>\u001b[0m in \u001b[0;36m<module>\u001b[0;34m()\u001b[0m\n\u001b[0;32m----> 1\u001b[0;31m \u001b[0manimal\u001b[0m \u001b[0;34m=\u001b[0m \u001b[0mAnimal\u001b[0m\u001b[0;34m(\u001b[0m\u001b[0m키\u001b[0m\u001b[0;34m=\u001b[0m\u001b[0;36m30\u001b[0m\u001b[0;34m,\u001b[0m \u001b[0m생일\u001b[0m\u001b[0;34m=\u001b[0m\u001b[0;36m20220219\u001b[0m\u001b[0;34m)\u001b[0m\u001b[0;34m\u001b[0m\u001b[0;34m\u001b[0m\u001b[0m\n\u001b[0m\u001b[1;32m      2\u001b[0m \u001b[0mprint\u001b[0m\u001b[0;34m(\u001b[0m\u001b[0manimal\u001b[0m\u001b[0;34m,\u001b[0m\u001b[0m키\u001b[0m\u001b[0;34m)\u001b[0m\u001b[0;34m\u001b[0m\u001b[0;34m\u001b[0m\u001b[0m\n\u001b[1;32m      3\u001b[0m \u001b[0manimal\u001b[0m\u001b[0;34m.\u001b[0m\u001b[0m키얻기\u001b[0m\u001b[0;34m(\u001b[0m\u001b[0;34m)\u001b[0m\u001b[0;34m\u001b[0m\u001b[0;34m\u001b[0m\u001b[0m\n",
            "\u001b[0;31mTypeError\u001b[0m: Animal() takes no arguments"
          ]
        }
      ]
    },
    {
      "cell_type": "code",
      "source": [
        "dir(animal)"
      ],
      "metadata": {
        "colab": {
          "base_uri": "https://localhost:8080/",
          "height": 171
        },
        "id": "I_plR-bRphyj",
        "outputId": "69327697-0e9a-4edf-82d9-4fc6e4bc7251"
      },
      "execution_count": 124,
      "outputs": [
        {
          "output_type": "error",
          "ename": "NameError",
          "evalue": "ignored",
          "traceback": [
            "\u001b[0;31m---------------------------------------------------------------------------\u001b[0m",
            "\u001b[0;31mNameError\u001b[0m                                 Traceback (most recent call last)",
            "\u001b[0;32m<ipython-input-124-cb9325cdc086>\u001b[0m in \u001b[0;36m<module>\u001b[0;34m()\u001b[0m\n\u001b[0;32m----> 1\u001b[0;31m \u001b[0mdir\u001b[0m\u001b[0;34m(\u001b[0m\u001b[0manimal\u001b[0m\u001b[0;34m)\u001b[0m\u001b[0;34m\u001b[0m\u001b[0;34m\u001b[0m\u001b[0m\n\u001b[0m",
            "\u001b[0;31mNameError\u001b[0m: name 'animal' is not defined"
          ]
        }
      ]
    },
    {
      "cell_type": "code",
      "source": [
        "print(type(animal.말하기))"
      ],
      "metadata": {
        "colab": {
          "base_uri": "https://localhost:8080/",
          "height": 171
        },
        "id": "3p_iTmapqTB2",
        "outputId": "9925f1f0-5e9a-470d-b69d-f7318d86af91"
      },
      "execution_count": 103,
      "outputs": [
        {
          "output_type": "error",
          "ename": "NameError",
          "evalue": "ignored",
          "traceback": [
            "\u001b[0;31m---------------------------------------------------------------------------\u001b[0m",
            "\u001b[0;31mNameError\u001b[0m                                 Traceback (most recent call last)",
            "\u001b[0;32m<ipython-input-103-7ce3b3e33e16>\u001b[0m in \u001b[0;36m<module>\u001b[0;34m()\u001b[0m\n\u001b[0;32m----> 1\u001b[0;31m \u001b[0mprint\u001b[0m\u001b[0;34m(\u001b[0m\u001b[0mtype\u001b[0m\u001b[0;34m(\u001b[0m\u001b[0manimal\u001b[0m\u001b[0;34m.\u001b[0m\u001b[0m말하기\u001b[0m\u001b[0;34m)\u001b[0m\u001b[0;34m)\u001b[0m\u001b[0;34m\u001b[0m\u001b[0;34m\u001b[0m\u001b[0m\n\u001b[0m",
            "\u001b[0;31mNameError\u001b[0m: name 'animal' is not defined"
          ]
        }
      ]
    },
    {
      "cell_type": "code",
      "source": [
        "class 개(Animal):\n",
        "  def 짖기(self):\n",
        "    print(\"멍\")"
      ],
      "metadata": {
        "id": "rYF4RXJvqlQ5"
      },
      "execution_count": 106,
      "outputs": []
    },
    {
      "cell_type": "code",
      "source": [
        "요크셔 = 개(키=30, 생일=\"오늘\")\n",
        "요크셔.짖기()"
      ],
      "metadata": {
        "colab": {
          "base_uri": "https://localhost:8080/",
          "height": 189
        },
        "id": "HDnudOgGq2zT",
        "outputId": "9928b778-67de-40c8-dfcc-65ed77153dd8"
      },
      "execution_count": 113,
      "outputs": [
        {
          "output_type": "error",
          "ename": "TypeError",
          "evalue": "ignored",
          "traceback": [
            "\u001b[0;31m---------------------------------------------------------------------------\u001b[0m",
            "\u001b[0;31mTypeError\u001b[0m                                 Traceback (most recent call last)",
            "\u001b[0;32m<ipython-input-113-f455736920e6>\u001b[0m in \u001b[0;36m<module>\u001b[0;34m()\u001b[0m\n\u001b[0;32m----> 1\u001b[0;31m \u001b[0m요크셔\u001b[0m \u001b[0;34m=\u001b[0m \u001b[0m개\u001b[0m\u001b[0;34m(\u001b[0m\u001b[0m키\u001b[0m\u001b[0;34m=\u001b[0m\u001b[0;36m30\u001b[0m\u001b[0;34m,\u001b[0m \u001b[0m생일\u001b[0m\u001b[0;34m=\u001b[0m\u001b[0;34m\"오늘\"\u001b[0m\u001b[0;34m)\u001b[0m\u001b[0;34m\u001b[0m\u001b[0;34m\u001b[0m\u001b[0m\n\u001b[0m\u001b[1;32m      2\u001b[0m \u001b[0m요크셔\u001b[0m\u001b[0;34m.\u001b[0m\u001b[0m짖기\u001b[0m\u001b[0;34m(\u001b[0m\u001b[0;34m)\u001b[0m\u001b[0;34m\u001b[0m\u001b[0;34m\u001b[0m\u001b[0m\n",
            "\u001b[0;31mTypeError\u001b[0m: 개() takes no arguments"
          ]
        }
      ]
    },
    {
      "cell_type": "code",
      "source": [
        "요크셔.키얻기()"
      ],
      "metadata": {
        "colab": {
          "base_uri": "https://localhost:8080/",
          "height": 171
        },
        "id": "y4XlXrcGq6W4",
        "outputId": "d713f1bc-2baf-4410-83ca-6c37bb8e7ec0"
      },
      "execution_count": 114,
      "outputs": [
        {
          "output_type": "error",
          "ename": "NameError",
          "evalue": "ignored",
          "traceback": [
            "\u001b[0;31m---------------------------------------------------------------------------\u001b[0m",
            "\u001b[0;31mNameError\u001b[0m                                 Traceback (most recent call last)",
            "\u001b[0;32m<ipython-input-114-f7e347d4c036>\u001b[0m in \u001b[0;36m<module>\u001b[0;34m()\u001b[0m\n\u001b[0;32m----> 1\u001b[0;31m \u001b[0m요크셔\u001b[0m\u001b[0;34m.\u001b[0m\u001b[0m키얻기\u001b[0m\u001b[0;34m(\u001b[0m\u001b[0;34m)\u001b[0m\u001b[0;34m\u001b[0m\u001b[0;34m\u001b[0m\u001b[0m\n\u001b[0m",
            "\u001b[0;31mNameError\u001b[0m: name '요크셔' is not defined"
          ]
        }
      ]
    },
    {
      "cell_type": "code",
      "source": [
        "del 요크셔"
      ],
      "metadata": {
        "colab": {
          "base_uri": "https://localhost:8080/",
          "height": 171
        },
        "id": "7pgFAEqorTAn",
        "outputId": "28738a61-813c-49bb-d921-a55e1199b28f"
      },
      "execution_count": 125,
      "outputs": [
        {
          "output_type": "error",
          "ename": "NameError",
          "evalue": "ignored",
          "traceback": [
            "\u001b[0;31m---------------------------------------------------------------------------\u001b[0m",
            "\u001b[0;31mNameError\u001b[0m                                 Traceback (most recent call last)",
            "\u001b[0;32m<ipython-input-125-91a9c664239f>\u001b[0m in \u001b[0;36m<module>\u001b[0;34m()\u001b[0m\n\u001b[0;32m----> 1\u001b[0;31m \u001b[0;32mdel\u001b[0m \u001b[0m요크셔\u001b[0m\u001b[0;34m\u001b[0m\u001b[0;34m\u001b[0m\u001b[0m\n\u001b[0m",
            "\u001b[0;31mNameError\u001b[0m: name '요크셔' is not defined"
          ]
        }
      ]
    },
    {
      "cell_type": "code",
      "source": [
        ""
      ],
      "metadata": {
        "id": "7rnoicIyrrR_"
      },
      "execution_count": null,
      "outputs": []
    }
  ]
}